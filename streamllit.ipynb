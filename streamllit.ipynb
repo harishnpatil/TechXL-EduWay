{
 "cells": [
  {
   "cell_type": "code",
   "execution_count": null,
   "id": "83e4fafb-5d8b-4c90-a7c8-8ba10b88266d",
   "metadata": {},
   "outputs": [],
   "source": [
    "!streamlit run app_new.py\n"
   ]
  },
  {
   "cell_type": "code",
   "execution_count": null,
   "id": "d153a10c-6177-4a8a-a545-550806b91e38",
   "metadata": {},
   "outputs": [],
   "source": [
    "pip install --upgrade langchain-google-genai"
   ]
  }
 ],
 "metadata": {
  "kernelspec": {
   "display_name": "Python 3 (ipykernel)",
   "language": "python",
   "name": "python3"
  },
  "language_info": {
   "codemirror_mode": {
    "name": "ipython",
    "version": 3
   },
   "file_extension": ".py",
   "mimetype": "text/x-python",
   "name": "python",
   "nbconvert_exporter": "python",
   "pygments_lexer": "ipython3",
   "version": "3.12.4"
  }
 },
 "nbformat": 4,
 "nbformat_minor": 5
}
